{
  "cells": [
    {
      "cell_type": "code",
      "execution_count": null,
      "metadata": {
        "id": "AI7JTat7vmqQ"
      },
      "outputs": [],
      "source": [
        "# INCEPTION V3 NEURAL NETWORK TO CLASSIFY IMAGES AS HAVING POTHOLES OR NOT \n",
        "\n",
        "# Sources cited:\n",
        "# https://keras.io/guides/transfer_learning/\n",
        "# https://keras.io/api/applications/#usage-examples-for-image-classification-models\n",
        "# https://keras.io/api/data_loading/\n",
        "# https://medium.com/@italojs/saving-your-weights-for-each-epoch-keras-callbacks-b494d9648202\n",
        "# https://datascience.stackexchange.com/questions/104572/does-validation-split-in-tf-keras-preprocessing-image-dataset-from-directory-res\n",
        "\n",
        "# importing files and libraries\n",
        "import os\n",
        "import tensorflow as tf\n",
        "import matplotlib.pyplot as plt\n",
        "import pandas as pd\n",
        "import cv2\n",
        "import numpy as np\n",
        "import glob\n",
        "import keras\n",
        "from PIL import Image\n",
        "from keras.applications.inception_v3 import InceptionV3\n",
        "from keras.preprocessing import image\n",
        "from keras.models import Model\n",
        "from keras.layers import Dense, GlobalAveragePooling2D\n",
        "from tensorflow.keras.utils import Sequence\n",
        "from keras.callbacks import ModelCheckpoint\n",
        "from keras.applications.inception_v3 import InceptionV3\n",
        "from keras.preprocessing import image\n",
        "from keras.models import Model\n",
        "from keras.layers import Dense, GlobalAveragePooling2D\n",
        "from sklearn.metrics import confusion_matrix\n",
        "from sklearn.metrics import classification_report\n",
        "from sklearn.metrics import precision_score , recall_score, f1_score\n",
        "from sklearn.metrics import top_k_accuracy_score\n"
      ]
    },
    {
      "cell_type": "code",
      "execution_count": null,
      "metadata": {
        "colab": {
          "base_uri": "https://localhost:8080/"
        },
        "id": "ReMkTc0mUL-T",
        "outputId": "227fb70b-3644-4787-e51a-d538ec1fe6bf"
      },
      "outputs": [
        {
          "name": "stdout",
          "output_type": "stream",
          "text": [
            "Mounted at /content/drive\n"
          ]
        }
      ],
      "source": [
        "# Mounting Google drive\n",
        "# The dataset is stored on the drive\n",
        "\n",
        "from google.colab import drive \n",
        "drive.mount('/content/drive',force_remount=True)\n"
      ]
    },
    {
      "cell_type": "code",
      "execution_count": null,
      "metadata": {
        "id": "1KiaehtJJvld"
      },
      "outputs": [],
      "source": [
        "filepath = '/content/drive/MyDrive/Senior_Design/'"
      ]
    },
    {
      "cell_type": "code",
      "execution_count": null,
      "metadata": {
        "id": "B8aDtwrEY3fE"
      },
      "outputs": [],
      "source": [
        "# Configuration environment\n",
        "import os\n",
        "\n",
        "os.environ['KAGGLE_USERNAME'] = \"balajisath\" # username from the json file\n",
        "os.environ['KAGGLE_KEY'] = \"75272a5becccf25ffbceee62d646c0a9\" # key from the json file"
      ]
    },
    {
      "cell_type": "code",
      "execution_count": null,
      "metadata": {
        "colab": {
          "base_uri": "https://localhost:8080/"
        },
        "id": "_NN9zvBAcU_r",
        "outputId": "0e4d4633-943c-4cd7-8e60-cc42ca762ab7"
      },
      "outputs": [
        {
          "name": "stdout",
          "output_type": "stream",
          "text": [
            "/content/drive/MyDrive/Senior_Design/Data\n"
          ]
        }
      ],
      "source": [
        "%cd /content/drive/MyDrive/Senior_Design/Data"
      ]
    },
    {
      "cell_type": "code",
      "execution_count": null,
      "metadata": {
        "colab": {
          "base_uri": "https://localhost:8080/"
        },
        "id": "UJQ8UeD7ZazW",
        "outputId": "5c372750-bdde-401b-bbdc-188a8c9ca583"
      },
      "outputs": [
        {
          "name": "stdout",
          "output_type": "stream",
          "text": [
            "Downloading nienaber-potholes-2-complex.zip to /content/drive/MyDrive/Senior_Design/Data\n",
            "100% 32.7G/32.7G [18:09<00:00, 31.8MB/s]\n",
            "100% 32.7G/32.7G [18:09<00:00, 32.2MB/s]\n"
          ]
        }
      ],
      "source": [
        "#!kaggle datasets download -d felipemuller5/nienaber-potholes-2-complex --unzip"
      ]
    },
    {
      "cell_type": "code",
      "execution_count": null,
      "metadata": {
        "colab": {
          "base_uri": "https://localhost:8080/"
        },
        "id": "MeM31D1BQL3_",
        "outputId": "d7c01cf6-5992-424f-b56b-9589a096de11"
      },
      "outputs": [
        {
          "name": "stdout",
          "output_type": "stream",
          "text": [
            "Downloading nienaber-potholes-1-simplex.zip to /content/drive/MyDrive/Senior_Design/Data\n",
            "100% 21.6G/21.6G [12:28<00:00, 41.3MB/s]\n",
            "100% 21.6G/21.6G [12:28<00:00, 31.0MB/s]\n"
          ]
        }
      ],
      "source": [
        "#!kaggle datasets download -d felipemuller5/nienaber-potholes-1-simplex --unzip"
      ]
    },
    {
      "cell_type": "code",
      "execution_count": null,
      "metadata": {
        "id": "jmxymENON_N1"
      },
      "outputs": [],
      "source": [
        "#folder='/content/drive/MyDrive/CS523_Deep_Learning/Data/train/c'\n",
        "\n",
        "#filelist = glob.glob(folder + '0' + '/*.jpg')\n",
        "#train_images = np.array([np.array(Image.open(fname)) for fname in filelist])\n",
        "#train_labels = np.zeros((train_images.shape[0],), dtype=int)\n",
        "\n",
        "#for i in range(1,10):\n",
        "#    folder_i = folder+str(i)\n",
        "#    filelist = glob.glob(folder_i + '/*.jpg')\n",
        "#    temp=np.array([np.array(Image.open(fname)) for fname in filelist])\n",
        "#    train_images = np.vstack((train_images, temp))\n",
        "#    train_labels = np.hstack((train_labels, np.zeros((temp.shape[0],), dtype=int) + i))\n"
      ]
    },
    {
      "cell_type": "code",
      "execution_count": null,
      "metadata": {
        "id": "b549A--aVzi_"
      },
      "outputs": [],
      "source": [
        "#folder='/content/drive/MyDrive/CS523_Deep_Learning/Data/TestData/c'\n",
        "\n",
        "#filelist = glob.glob(folder + '0' + '/*.jpg')\n",
        "#test_images = np.array([np.array(Image.open(fname)) for fname in filelist])\n",
        "#test_labels = np.zeros((test_images.shape[0],), dtype=int)\n",
        "\n",
        "#for i in range(1,10):\n",
        "#    folder_i = folder+str(i)\n",
        "#    filelist = glob.glob(folder_i + '/*.jpg')\n",
        "#    temp=np.array([np.array(Image.open(fname)) for fname in filelist])\n",
        "#    test_images = np.vstack((test_images, temp))\n",
        "#    test_labels = np.hstack((test_labels, np.zeros((temp.shape[0],), dtype=int) + i))"
      ]
    },
    {
      "cell_type": "code",
      "execution_count": null,
      "metadata": {
        "colab": {
          "base_uri": "https://localhost:8080/"
        },
        "id": "467bNG5nteeK",
        "outputId": "d52ec205-3713-4a40-98d9-9f7c17fc9bdd"
      },
      "outputs": [
        {
          "name": "stdout",
          "output_type": "stream",
          "text": [
            "Found 7110 files belonging to 2 classes.\n",
            "Using 6399 files for training.\n",
            "Found 4736 files belonging to 2 classes.\n",
            "Using 4263 files for training.\n",
            "Found 7110 files belonging to 2 classes.\n",
            "Using 711 files for validation.\n",
            "Found 4736 files belonging to 2 classes.\n",
            "Using 473 files for validation.\n",
            "Found 984 files belonging to 2 classes.\n"
          ]
        }
      ],
      "source": [
        "# Extracting training, validation and test data sets\n",
        "\n",
        "train_ds1 = tf.keras.utils.image_dataset_from_directory(\n",
        "    directory=filepath+'Data/Train1',\n",
        "    labels='inferred',\n",
        "    label_mode='binary',\n",
        "    batch_size=32,\n",
        "    seed=42,\n",
        "    shuffle=True,\n",
        "    validation_split=0.1,\n",
        "    subset='training',\n",
        "    image_size=(480, 640))\n",
        "\n",
        "train_ds2 = tf.keras.utils.image_dataset_from_directory(\n",
        "    directory=filepath+'Data/Train2',\n",
        "    labels='inferred',\n",
        "    label_mode='binary',\n",
        "    batch_size=32,\n",
        "    seed=42,\n",
        "    shuffle=True,\n",
        "    validation_split=0.1,\n",
        "    subset='training',\n",
        "    image_size=(480, 640))\n",
        "\n",
        "train_ds=train_ds1.concatenate(train_ds2)\n",
        "\n",
        "val_ds1 = tf.keras.utils.image_dataset_from_directory(\n",
        "    directory=filepath+'Data/Train1',\n",
        "    labels='inferred',\n",
        "    label_mode='binary',\n",
        "    batch_size=32,\n",
        "    seed=42,\n",
        "    shuffle=True,\n",
        "    validation_split=0.1,\n",
        "    subset='validation',\n",
        "    image_size=(480, 640))\n",
        "\n",
        "val_ds2 = tf.keras.utils.image_dataset_from_directory(\n",
        "    directory=filepath+'Data/Train2',\n",
        "    labels='inferred',\n",
        "    label_mode='binary',\n",
        "    batch_size=32,\n",
        "    seed=42,\n",
        "    shuffle=True,\n",
        "    validation_split=0.1,\n",
        "    subset='validation',\n",
        "    image_size=(480, 640))\n",
        "\n",
        "val_ds=val_ds1.concatenate(val_ds2)\n",
        "\n",
        "test_ds = tf.keras.utils.image_dataset_from_directory(\n",
        "    directory=filepath+'Data/Test1',\n",
        "    labels='inferred',\n",
        "    label_mode='binary',\n",
        "    batch_size=32,\n",
        "    seed=42,\n",
        "    shuffle=True,\n",
        "    image_size=(480, 640))"
      ]
    },
    {
      "cell_type": "code",
      "execution_count": null,
      "metadata": {
        "colab": {
          "base_uri": "https://localhost:8080/"
        },
        "id": "pX47mRF7bE2X",
        "outputId": "d9e115e6-7ef0-4a54-e09e-6cbd5f0b6eb7"
      },
      "outputs": [
        {
          "name": "stdout",
          "output_type": "stream",
          "text": [
            "Model: \"model_3\"\n",
            "_________________________________________________________________\n",
            " Layer (type)                Output Shape              Param #   \n",
            "=================================================================\n",
            " input_12 (InputLayer)       [(None, 480, 640, 3)]     0         \n",
            "                                                                 \n",
            " inception_v3 (Functional)   (None, 13, 18, 2048)      21802784  \n",
            "                                                                 \n",
            " global_average_pooling2d_3   (None, 2048)             0         \n",
            " (GlobalAveragePooling2D)                                        \n",
            "                                                                 \n",
            " dropout_6 (Dropout)         (None, 2048)              0         \n",
            "                                                                 \n",
            " dense_6 (Dense)             (None, 1024)              2098176   \n",
            "                                                                 \n",
            " dropout_7 (Dropout)         (None, 1024)              0         \n",
            "                                                                 \n",
            " dense_7 (Dense)             (None, 2)                 2050      \n",
            "                                                                 \n",
            "=================================================================\n",
            "Total params: 23,903,010\n",
            "Trainable params: 2,100,226\n",
            "Non-trainable params: 21,802,784\n",
            "_________________________________________________________________\n",
            "Epoch 1/10\n"
          ]
        },
        {
          "name": "stderr",
          "output_type": "stream",
          "text": [
            "/usr/local/lib/python3.8/dist-packages/tensorflow/python/util/dispatch.py:1082: UserWarning: \"`sparse_categorical_crossentropy` received `from_logits=True`, but the `output` argument was produced by a sigmoid or softmax activation and thus does not represent logits. Was this intended?\"\n",
            "  return dispatch_target(*args, **kwargs)\n"
          ]
        },
        {
          "name": "stdout",
          "output_type": "stream",
          "text": [
            "334/334 [==============================] - 121s 325ms/step - loss: 3.2285 - accuracy: 0.7049 - val_loss: 0.6058 - val_accuracy: 0.7804\n",
            "Epoch 2/10\n",
            "334/334 [==============================] - 107s 313ms/step - loss: 0.5459 - accuracy: 0.7677 - val_loss: 0.5446 - val_accuracy: 0.7804\n",
            "Epoch 3/10\n",
            "334/334 [==============================] - 107s 313ms/step - loss: 0.5272 - accuracy: 0.7754 - val_loss: 0.5262 - val_accuracy: 0.7804\n",
            "Epoch 4/10\n",
            "334/334 [==============================] - 107s 313ms/step - loss: 0.5182 - accuracy: 0.7765 - val_loss: 0.4711 - val_accuracy: 0.7804\n",
            "Epoch 5/10\n",
            "334/334 [==============================] - 106s 310ms/step - loss: 0.5052 - accuracy: 0.7832 - val_loss: 0.5771 - val_accuracy: 0.7812\n",
            "Epoch 6/10\n",
            "334/334 [==============================] - 108s 316ms/step - loss: 0.5141 - accuracy: 0.7784 - val_loss: 0.4633 - val_accuracy: 0.7804\n",
            "Epoch 7/10\n",
            "334/334 [==============================] - 107s 314ms/step - loss: 0.5031 - accuracy: 0.7765 - val_loss: 0.5175 - val_accuracy: 0.7804\n",
            "Epoch 8/10\n",
            "334/334 [==============================] - 108s 315ms/step - loss: 0.5093 - accuracy: 0.7768 - val_loss: 0.4716 - val_accuracy: 0.7804\n",
            "Epoch 9/10\n",
            "334/334 [==============================] - 107s 313ms/step - loss: 0.5049 - accuracy: 0.7762 - val_loss: 0.4844 - val_accuracy: 0.7804\n",
            "Epoch 10/10\n",
            "334/334 [==============================] - 107s 315ms/step - loss: 0.4961 - accuracy: 0.7775 - val_loss: 0.4788 - val_accuracy: 0.7804\n"
          ]
        }
      ],
      "source": [
        "# Inception V3 model with transfer learning\n",
        "\n",
        "base_model = InceptionV3(weights='imagenet', include_top=False, input_shape=(480, 640, 3))\n",
        "\n",
        "base_model.trainable = False\n",
        "inputs = keras.Input(shape=(480, 640, 3))\n",
        "\n",
        "scale_layer = keras.layers.Rescaling(scale=1 / 127.5, offset=-1)\n",
        "inputs = scale_layer(inputs)\n",
        "\n",
        "x = base_model(inputs, training=False)\n",
        "x = GlobalAveragePooling2D()(x)\n",
        "x = keras.layers.Dropout(0.4)(x) \n",
        "\n",
        "x = Dense(1024, activation='relu')(x)\n",
        "x = keras.layers.Dropout(0.4)(x) \n",
        "\n",
        "predictions = Dense(2, activation='softmax')(x)\n",
        "\n",
        "model = Model(inputs, outputs=predictions)\n",
        "\n",
        "model.compile(optimizer='adam', loss=tf.keras.losses.SparseCategoricalCrossentropy(from_logits=True), metrics=['accuracy'])\n",
        "\n",
        "model.summary()\n",
        "\n",
        "history=model.fit(train_ds, epochs=10, validation_data=val_ds)"
      ]
    },
    {
      "cell_type": "code",
      "execution_count": null,
      "metadata": {
        "colab": {
          "background_save": true,
          "base_uri": "https://localhost:8080/"
        },
        "id": "UeMJIG2bdhi3",
        "outputId": "0559df28-1ac6-4c89-f3bc-58d0bf9e2a7e"
      },
      "outputs": [
        {
          "name": "stdout",
          "output_type": "stream",
          "text": [
            "Model: \"model_3\"\n",
            "_________________________________________________________________\n",
            " Layer (type)                Output Shape              Param #   \n",
            "=================================================================\n",
            " input_12 (InputLayer)       [(None, 480, 640, 3)]     0         \n",
            "                                                                 \n",
            " inception_v3 (Functional)   (None, 13, 18, 2048)      21802784  \n",
            "                                                                 \n",
            " global_average_pooling2d_3   (None, 2048)             0         \n",
            " (GlobalAveragePooling2D)                                        \n",
            "                                                                 \n",
            " dropout_6 (Dropout)         (None, 2048)              0         \n",
            "                                                                 \n",
            " dense_6 (Dense)             (None, 1024)              2098176   \n",
            "                                                                 \n",
            " dropout_7 (Dropout)         (None, 1024)              0         \n",
            "                                                                 \n",
            " dense_7 (Dense)             (None, 2)                 2050      \n",
            "                                                                 \n",
            "=================================================================\n",
            "Total params: 23,903,010\n",
            "Trainable params: 23,868,578\n",
            "Non-trainable params: 34,432\n",
            "_________________________________________________________________\n"
          ]
        },
        {
          "name": "stderr",
          "output_type": "stream",
          "text": [
            "WARNING:tensorflow:`period` argument is deprecated. Please use `save_freq` to specify the frequency in number of batches seen.\n"
          ]
        },
        {
          "name": "stdout",
          "output_type": "stream",
          "text": [
            "Epoch 1/15\n"
          ]
        },
        {
          "name": "stderr",
          "output_type": "stream",
          "text": [
            "/usr/local/lib/python3.8/dist-packages/tensorflow/python/util/dispatch.py:1082: UserWarning: \"`sparse_categorical_crossentropy` received `from_logits=True`, but the `output` argument was produced by a sigmoid or softmax activation and thus does not represent logits. Was this intended?\"\n",
            "  return dispatch_target(*args, **kwargs)\n"
          ]
        },
        {
          "name": "stdout",
          "output_type": "stream",
          "text": [
            "334/334 [==============================] - ETA: 0s - loss: 0.4930 - accuracy: 0.7788\n",
            "Epoch 1: loss improved from inf to 0.49302, saving model to /content/drive/MyDrive/Senior_Design/Models/InceptionV3_Sample_Net\n"
          ]
        },
        {
          "name": "stderr",
          "output_type": "stream",
          "text": [
            "WARNING:absl:Found untraced functions such as _jit_compiled_convolution_op, _jit_compiled_convolution_op, _jit_compiled_convolution_op, _jit_compiled_convolution_op, _jit_compiled_convolution_op while saving (showing 5 of 94). These functions will not be directly callable after loading.\n"
          ]
        },
        {
          "name": "stdout",
          "output_type": "stream",
          "text": [
            "334/334 [==============================] - 173s 479ms/step - loss: 0.4930 - accuracy: 0.7788 - val_loss: 0.4287 - val_accuracy: 0.7922\n",
            "Epoch 2/15\n",
            "334/334 [==============================] - ETA: 0s - loss: 0.4133 - accuracy: 0.8274\n",
            "Epoch 2: loss improved from 0.49302 to 0.41331, saving model to /content/drive/MyDrive/Senior_Design/Models/InceptionV3_Sample_Net\n"
          ]
        },
        {
          "name": "stderr",
          "output_type": "stream",
          "text": [
            "WARNING:absl:Found untraced functions such as _jit_compiled_convolution_op, _jit_compiled_convolution_op, _jit_compiled_convolution_op, _jit_compiled_convolution_op, _jit_compiled_convolution_op while saving (showing 5 of 94). These functions will not be directly callable after loading.\n"
          ]
        },
        {
          "name": "stdout",
          "output_type": "stream",
          "text": [
            "334/334 [==============================] - 162s 478ms/step - loss: 0.4133 - accuracy: 0.8274 - val_loss: 0.4234 - val_accuracy: 0.8480\n",
            "Epoch 3/15\n",
            "334/334 [==============================] - ETA: 0s - loss: 0.3382 - accuracy: 0.8582\n",
            "Epoch 3: loss improved from 0.41331 to 0.33818, saving model to /content/drive/MyDrive/Senior_Design/Models/InceptionV3_Sample_Net\n"
          ]
        },
        {
          "name": "stderr",
          "output_type": "stream",
          "text": [
            "WARNING:absl:Found untraced functions such as _jit_compiled_convolution_op, _jit_compiled_convolution_op, _jit_compiled_convolution_op, _jit_compiled_convolution_op, _jit_compiled_convolution_op while saving (showing 5 of 94). These functions will not be directly callable after loading.\n"
          ]
        },
        {
          "name": "stdout",
          "output_type": "stream",
          "text": [
            "334/334 [==============================] - 162s 478ms/step - loss: 0.3382 - accuracy: 0.8582 - val_loss: 0.3976 - val_accuracy: 0.8133\n",
            "Epoch 4/15\n",
            "334/334 [==============================] - ETA: 0s - loss: 0.3059 - accuracy: 0.8739\n",
            "Epoch 4: loss improved from 0.33818 to 0.30588, saving model to /content/drive/MyDrive/Senior_Design/Models/InceptionV3_Sample_Net\n"
          ]
        },
        {
          "name": "stderr",
          "output_type": "stream",
          "text": [
            "WARNING:absl:Found untraced functions such as _jit_compiled_convolution_op, _jit_compiled_convolution_op, _jit_compiled_convolution_op, _jit_compiled_convolution_op, _jit_compiled_convolution_op while saving (showing 5 of 94). These functions will not be directly callable after loading.\n"
          ]
        },
        {
          "name": "stdout",
          "output_type": "stream",
          "text": [
            "334/334 [==============================] - 164s 483ms/step - loss: 0.3059 - accuracy: 0.8739 - val_loss: 0.2721 - val_accuracy: 0.8860\n",
            "Epoch 5/15\n",
            "334/334 [==============================] - ETA: 0s - loss: 0.2527 - accuracy: 0.8907\n",
            "Epoch 5: loss improved from 0.30588 to 0.25274, saving model to /content/drive/MyDrive/Senior_Design/Models/InceptionV3_Sample_Net\n"
          ]
        },
        {
          "name": "stderr",
          "output_type": "stream",
          "text": [
            "WARNING:absl:Found untraced functions such as _jit_compiled_convolution_op, _jit_compiled_convolution_op, _jit_compiled_convolution_op, _jit_compiled_convolution_op, _jit_compiled_convolution_op while saving (showing 5 of 94). These functions will not be directly callable after loading.\n"
          ]
        },
        {
          "name": "stdout",
          "output_type": "stream",
          "text": [
            "334/334 [==============================] - 159s 470ms/step - loss: 0.2527 - accuracy: 0.8907 - val_loss: 0.3083 - val_accuracy: 0.8716\n",
            "Epoch 6/15\n",
            "334/334 [==============================] - ETA: 0s - loss: 0.2188 - accuracy: 0.9055\n",
            "Epoch 6: loss improved from 0.25274 to 0.21878, saving model to /content/drive/MyDrive/Senior_Design/Models/InceptionV3_Sample_Net\n"
          ]
        },
        {
          "name": "stderr",
          "output_type": "stream",
          "text": [
            "WARNING:absl:Found untraced functions such as _jit_compiled_convolution_op, _jit_compiled_convolution_op, _jit_compiled_convolution_op, _jit_compiled_convolution_op, _jit_compiled_convolution_op while saving (showing 5 of 94). These functions will not be directly callable after loading.\n"
          ]
        },
        {
          "name": "stdout",
          "output_type": "stream",
          "text": [
            "334/334 [==============================] - 161s 474ms/step - loss: 0.2188 - accuracy: 0.9055 - val_loss: 0.2310 - val_accuracy: 0.9003\n",
            "Epoch 7/15\n",
            "334/334 [==============================] - ETA: 0s - loss: 0.1866 - accuracy: 0.9217\n",
            "Epoch 7: loss improved from 0.21878 to 0.18661, saving model to /content/drive/MyDrive/Senior_Design/Models/InceptionV3_Sample_Net\n"
          ]
        },
        {
          "name": "stderr",
          "output_type": "stream",
          "text": [
            "WARNING:absl:Found untraced functions such as _jit_compiled_convolution_op, _jit_compiled_convolution_op, _jit_compiled_convolution_op, _jit_compiled_convolution_op, _jit_compiled_convolution_op while saving (showing 5 of 94). These functions will not be directly callable after loading.\n"
          ]
        },
        {
          "name": "stdout",
          "output_type": "stream",
          "text": [
            "334/334 [==============================] - 161s 477ms/step - loss: 0.1866 - accuracy: 0.9217 - val_loss: 0.3657 - val_accuracy: 0.8159\n",
            "Epoch 8/15\n",
            "334/334 [==============================] - ETA: 0s - loss: 0.1570 - accuracy: 0.9332\n",
            "Epoch 8: loss improved from 0.18661 to 0.15703, saving model to /content/drive/MyDrive/Senior_Design/Models/InceptionV3_Sample_Net\n"
          ]
        },
        {
          "name": "stderr",
          "output_type": "stream",
          "text": [
            "WARNING:absl:Found untraced functions such as _jit_compiled_convolution_op, _jit_compiled_convolution_op, _jit_compiled_convolution_op, _jit_compiled_convolution_op, _jit_compiled_convolution_op while saving (showing 5 of 94). These functions will not be directly callable after loading.\n"
          ]
        },
        {
          "name": "stdout",
          "output_type": "stream",
          "text": [
            "334/334 [==============================] - 160s 473ms/step - loss: 0.1570 - accuracy: 0.9332 - val_loss: 0.2040 - val_accuracy: 0.9248\n",
            "Epoch 9/15\n",
            "334/334 [==============================] - ETA: 0s - loss: 0.1390 - accuracy: 0.9444\n",
            "Epoch 9: loss improved from 0.15703 to 0.13896, saving model to /content/drive/MyDrive/Senior_Design/Models/InceptionV3_Sample_Net\n"
          ]
        },
        {
          "name": "stderr",
          "output_type": "stream",
          "text": [
            "WARNING:absl:Found untraced functions such as _jit_compiled_convolution_op, _jit_compiled_convolution_op, _jit_compiled_convolution_op, _jit_compiled_convolution_op, _jit_compiled_convolution_op while saving (showing 5 of 94). These functions will not be directly callable after loading.\n"
          ]
        },
        {
          "name": "stdout",
          "output_type": "stream",
          "text": [
            "334/334 [==============================] - 161s 475ms/step - loss: 0.1390 - accuracy: 0.9444 - val_loss: 0.1897 - val_accuracy: 0.9358\n",
            "Epoch 10/15\n",
            "334/334 [==============================] - ETA: 0s - loss: 0.1109 - accuracy: 0.9574\n",
            "Epoch 10: loss improved from 0.13896 to 0.11093, saving model to /content/drive/MyDrive/Senior_Design/Models/InceptionV3_Sample_Net\n"
          ]
        },
        {
          "name": "stderr",
          "output_type": "stream",
          "text": [
            "WARNING:absl:Found untraced functions such as _jit_compiled_convolution_op, _jit_compiled_convolution_op, _jit_compiled_convolution_op, _jit_compiled_convolution_op, _jit_compiled_convolution_op while saving (showing 5 of 94). These functions will not be directly callable after loading.\n"
          ]
        },
        {
          "name": "stdout",
          "output_type": "stream",
          "text": [
            "334/334 [==============================] - 162s 479ms/step - loss: 0.1109 - accuracy: 0.9574 - val_loss: 0.2112 - val_accuracy: 0.9231\n",
            "Epoch 11/15\n",
            "334/334 [==============================] - ETA: 0s - loss: 0.0874 - accuracy: 0.9675\n",
            "Epoch 11: loss improved from 0.11093 to 0.08742, saving model to /content/drive/MyDrive/Senior_Design/Models/InceptionV3_Sample_Net\n"
          ]
        },
        {
          "name": "stderr",
          "output_type": "stream",
          "text": [
            "WARNING:absl:Found untraced functions such as _jit_compiled_convolution_op, _jit_compiled_convolution_op, _jit_compiled_convolution_op, _jit_compiled_convolution_op, _jit_compiled_convolution_op while saving (showing 5 of 94). These functions will not be directly callable after loading.\n"
          ]
        },
        {
          "name": "stdout",
          "output_type": "stream",
          "text": [
            "334/334 [==============================] - 160s 473ms/step - loss: 0.0874 - accuracy: 0.9675 - val_loss: 0.2502 - val_accuracy: 0.9299\n",
            "Epoch 12/15\n",
            "334/334 [==============================] - ETA: 0s - loss: 0.0968 - accuracy: 0.9646\n",
            "Epoch 12: loss did not improve from 0.08742\n",
            "334/334 [==============================] - 116s 340ms/step - loss: 0.0968 - accuracy: 0.9646 - val_loss: 0.1790 - val_accuracy: 0.9392\n",
            "Epoch 13/15\n",
            "334/334 [==============================] - ETA: 0s - loss: 0.0713 - accuracy: 0.9741\n",
            "Epoch 13: loss improved from 0.08742 to 0.07130, saving model to /content/drive/MyDrive/Senior_Design/Models/InceptionV3_Sample_Net\n"
          ]
        },
        {
          "name": "stderr",
          "output_type": "stream",
          "text": [
            "WARNING:absl:Found untraced functions such as _jit_compiled_convolution_op, _jit_compiled_convolution_op, _jit_compiled_convolution_op, _jit_compiled_convolution_op, _jit_compiled_convolution_op while saving (showing 5 of 94). These functions will not be directly callable after loading.\n"
          ]
        },
        {
          "name": "stdout",
          "output_type": "stream",
          "text": [
            "334/334 [==============================] - 162s 477ms/step - loss: 0.0713 - accuracy: 0.9741 - val_loss: 0.1738 - val_accuracy: 0.9485\n",
            "Epoch 14/15\n",
            "334/334 [==============================] - ETA: 0s - loss: 0.0562 - accuracy: 0.9800\n",
            "Epoch 14: loss improved from 0.07130 to 0.05625, saving model to /content/drive/MyDrive/Senior_Design/Models/InceptionV3_Sample_Net\n"
          ]
        },
        {
          "name": "stderr",
          "output_type": "stream",
          "text": [
            "WARNING:absl:Found untraced functions such as _jit_compiled_convolution_op, _jit_compiled_convolution_op, _jit_compiled_convolution_op, _jit_compiled_convolution_op, _jit_compiled_convolution_op while saving (showing 5 of 94). These functions will not be directly callable after loading.\n"
          ]
        },
        {
          "name": "stdout",
          "output_type": "stream",
          "text": [
            "334/334 [==============================] - 159s 470ms/step - loss: 0.0562 - accuracy: 0.9800 - val_loss: 0.1800 - val_accuracy: 0.9519\n",
            "Epoch 15/15\n",
            "334/334 [==============================] - ETA: 0s - loss: 0.0520 - accuracy: 0.9820\n",
            "Epoch 15: loss improved from 0.05625 to 0.05200, saving model to /content/drive/MyDrive/Senior_Design/Models/InceptionV3_Sample_Net\n"
          ]
        },
        {
          "name": "stderr",
          "output_type": "stream",
          "text": [
            "WARNING:absl:Found untraced functions such as _jit_compiled_convolution_op, _jit_compiled_convolution_op, _jit_compiled_convolution_op, _jit_compiled_convolution_op, _jit_compiled_convolution_op while saving (showing 5 of 94). These functions will not be directly callable after loading.\n"
          ]
        },
        {
          "name": "stdout",
          "output_type": "stream",
          "text": [
            "\b\b\b\b\b\b\b\b\b\b\b\b\b\b\b\b\b\b\b\b\b\b\b\b\b\b\b\b\b\b\b\b\b\b\b\b\b\b\b\b\b\b\b\b\b\b\b\b\b\b\b\b\b\b\b\b\b\b\b\b\b\b\b\b\b\b\b\b\b\b\b\b\b\b\b\b\b\b\b\b\b\b\b\b\r334/334 [==============================] - 164s 483ms/step - loss: 0.0520 - accuracy: 0.9820 - val_loss: 0.1521 - val_accuracy: 0.9620\n"
          ]
        }
      ],
      "source": [
        "# Inception V3 model with fine tuning\n",
        "\n",
        "base_model.trainable = True\n",
        "model.summary()\n",
        "\n",
        "model.compile(optimizer=tf.keras.optimizers.Adam(1e-5), loss=tf.keras.losses.SparseCategoricalCrossentropy(from_logits=True), metrics=['accuracy'])\n",
        "\n",
        "checkpoint = ModelCheckpoint(filepath+'Models/InceptionV3_Sample_Net', monitor='loss', verbose=1, save_best_only=True, mode='auto', period=1)\n",
        "\n",
        "history=model.fit(train_ds, epochs=15, validation_data=val_ds, callbacks=[checkpoint])\n"
      ]
    },
    {
      "cell_type": "code",
      "execution_count": null,
      "metadata": {
        "colab": {
          "base_uri": "https://localhost:8080/",
          "height": 300
        },
        "id": "8ydMIYCRa5Hw",
        "outputId": "1116db69-ae6b-4a60-ff88-a3421b9faa75"
      },
      "outputs": [
        {
          "data": {
            "text/plain": [
              "<matplotlib.legend.Legend at 0x7efc7486db20>"
            ]
          },
          "execution_count": 25,
          "metadata": {},
          "output_type": "execute_result"
        },
        {
          "data": {
            "image/png": "[encoded data removed]",
            "text/plain": [
              "<Figure size 432x288 with 1 Axes>"
            ]
          },
          "metadata": {},
          "output_type": "display_data"
        }
      ],
      "source": [
        "# plots\n",
        "\n",
        "plt.plot(history.history['accuracy'], label='accuracy')\n",
        "plt.plot(history.history['val_accuracy'], label = 'validation accuracy')\n",
        "plt.xlabel('Epoch')\n",
        "plt.ylabel('Accuracy')\n",
        "plt.ylim([0.5, 1])\n",
        "plt.legend(loc='lower right')"
      ]
    },
    {
      "cell_type": "code",
      "execution_count": null,
      "metadata": {
        "id": "veJL8r89LNu1"
      },
      "outputs": [],
      "source": [
        "model=keras.models.load_model(filepath+'Models/InceptionV3_Sample_Net')\n",
        "# Use filepath+'Models/InceptionV3_Sample_Net' if you want to access a sample net already trained by us"
      ]
    },
    {
      "cell_type": "code",
      "execution_count": null,
      "metadata": {
        "colab": {
          "base_uri": "https://localhost:8080/"
        },
        "id": "s75qF-No8fpQ",
        "outputId": "2fb769dd-4fbf-4b05-dfeb-4a91bde38a82"
      },
      "outputs": [
        {
          "name": "stdout",
          "output_type": "stream",
          "text": [
            "31/31 [==============================] - 46s 1s/step - loss: 0.4057 - accuracy: 0.9136\n",
            "0.9136179089546204\n"
          ]
        }
      ],
      "source": [
        "# Test Accuracy\n",
        "\n",
        "test_loss, test_acc = model.evaluate(test_ds)\n",
        "print(test_acc)"
      ]
    },
    {
      "cell_type": "code",
      "execution_count": null,
      "metadata": {
        "colab": {
          "base_uri": "https://localhost:8080/"
        },
        "id": "rqzL8CqqucZ8",
        "outputId": "4b08d920-6f9a-4b50-e1e6-6cc8fe891374"
      },
      "outputs": [
        {
          "name": "stdout",
          "output_type": "stream",
          "text": [
            "31/31 [==============================] - 49s 2s/step\n"
          ]
        }
      ],
      "source": [
        "# y_pred and y_true for calculating metrics\n",
        "\n",
        "y_pred_t=model.predict(test_ds)\n",
        "y_pred=np.argmax(y_pred_t, axis=1)\n",
        "\n",
        "y_true = np.concatenate([y for x, y in test_ds], axis=0)"
      ]
    },
    {
      "cell_type": "code",
      "execution_count": null,
      "metadata": {
        "id": "NgrcXVpHkwzg"
      },
      "outputs": [],
      "source": [
        "# Top 2 accuracy\n",
        "\n",
        "#top_k_accuracy_score(y_true, y_pred_t, k=2)"
      ]
    },
    {
      "cell_type": "code",
      "execution_count": 1,
      "metadata": {
        "id": "sn-MsemB86Wh"
      },
      "outputs": [],
      "source": [
        "# Confusion matrix\n",
        "\n",
        "#cm=confusion_matrix(y_true, y_pred)\n",
        "#print(cm)"
      ]
    },
    {
      "cell_type": "code",
      "execution_count": 2,
      "metadata": {
        "id": "rtsdDoLuOWUE"
      },
      "outputs": [],
      "source": [
        "# Precision\n",
        "\n",
        "#print(precision_score(y_true,y_pred,average='micro'))"
      ]
    },
    {
      "cell_type": "code",
      "execution_count": 3,
      "metadata": {
        "id": "5ElKRuiCZ_0a"
      },
      "outputs": [],
      "source": [
        "# Recall\n",
        "\n",
        "#print(recall_score(y_true,y_pred,average='micro'))"
      ]
    },
    {
      "cell_type": "code",
      "execution_count": 4,
      "metadata": {
        "id": "fmCjmujcaHi4"
      },
      "outputs": [],
      "source": [
        "# F1 Score\n",
        "\n",
        "#print(f1_score(y_true,y_pred,average='micro'))"
      ]
    },
    {
      "cell_type": "code",
      "execution_count": 5,
      "metadata": {
        "id": "QKyQW05Qcr0c"
      },
      "outputs": [],
      "source": [
        "# Classification Report \n",
        "\n",
        "#print(classification_report(y_true, y_pred))"
      ]
    },
    {
      "cell_type": "code",
      "source": [],
      "metadata": {
        "id": "RlSfUyIjZsUC"
      },
      "execution_count": null,
      "outputs": []
    }
  ],
  "metadata": {
    "accelerator": "GPU",
    "colab": {
      "machine_shape": "hm",
      "provenance": []
    },
    "gpuClass": "premium",
    "kernelspec": {
      "display_name": "Python 3",
      "name": "python3"
    },
    "language_info": {
      "name": "python"
    }
  },
  "nbformat": 4,
  "nbformat_minor": 0
}